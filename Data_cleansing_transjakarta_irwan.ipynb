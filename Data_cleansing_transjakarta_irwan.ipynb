{
 "cells": [
  {
   "cell_type": "markdown",
   "id": "0ecb65aa",
   "metadata": {},
   "source": [
    "DATA CLEANSING TRANSJAKARTA by IRWAN"
   ]
  },
  {
   "cell_type": "code",
   "execution_count": 8,
   "id": "ed5451d7",
   "metadata": {},
   "outputs": [
    {
     "name": "stdout",
     "output_type": "stream",
     "text": [
      "<class 'pandas.core.frame.DataFrame'>\n",
      "RangeIndex: 37900 entries, 0 to 37899\n",
      "Data columns (total 22 columns):\n",
      " #   Column            Non-Null Count  Dtype  \n",
      "---  ------            --------------  -----  \n",
      " 0   transID           37900 non-null  object \n",
      " 1   payCardID         37900 non-null  int64  \n",
      " 2   payCardBank       37900 non-null  object \n",
      " 3   payCardName       37900 non-null  object \n",
      " 4   payCardSex        37900 non-null  object \n",
      " 5   payCardBirthDate  37900 non-null  int64  \n",
      " 6   corridorID        36643 non-null  object \n",
      " 7   corridorName      35970 non-null  object \n",
      " 8   direction         37900 non-null  float64\n",
      " 9   tapInStops        36687 non-null  object \n",
      " 10  tapInStopsName    37900 non-null  object \n",
      " 11  tapInStopsLat     37900 non-null  float64\n",
      " 12  tapInStopsLon     37900 non-null  float64\n",
      " 13  stopStartSeq      37900 non-null  int64  \n",
      " 14  tapInTime         37900 non-null  object \n",
      " 15  tapOutStops       35611 non-null  object \n",
      " 16  tapOutStopsName   36556 non-null  object \n",
      " 17  tapOutStopsLat    36556 non-null  float64\n",
      " 18  tapOutStopsLon    36556 non-null  float64\n",
      " 19  stopEndSeq        36556 non-null  float64\n",
      " 20  tapOutTime        36556 non-null  object \n",
      " 21  payAmount         36893 non-null  float64\n",
      "dtypes: float64(7), int64(3), object(12)\n",
      "memory usage: 6.4+ MB\n"
     ]
    }
   ],
   "source": [
    "import pandas as pd\n",
    "\n",
    "# Load data\n",
    "df = pd.read_csv('Transjakarta.csv')\n",
    "df.info()"
   ]
  },
  {
   "cell_type": "code",
   "execution_count": 9,
   "id": "e5dea78c",
   "metadata": {},
   "outputs": [
    {
     "name": "stdout",
     "output_type": "stream",
     "text": [
      "corridorID         1257\n",
      "corridorName       1930\n",
      "tapInStops         1213\n",
      "tapOutStops        2289\n",
      "tapOutStopsName    1344\n",
      "tapOutStopsLat     1344\n",
      "tapOutStopsLon     1344\n",
      "stopEndSeq         1344\n",
      "tapOutTime         1344\n",
      "payAmount          1007\n",
      "dtype: int64\n"
     ]
    }
   ],
   "source": [
    "# Cek missing values per kolom\n",
    "missing = df.isnull().sum()\n",
    "print(missing[missing > 0])\n"
   ]
  },
  {
   "cell_type": "code",
   "execution_count": 10,
   "id": "1901359d",
   "metadata": {},
   "outputs": [
    {
     "name": "stdout",
     "output_type": "stream",
     "text": [
      "0\n"
     ]
    }
   ],
   "source": [
    "#hapus baris yang missing values\n",
    "df_clean = df.dropna()\n",
    "\n",
    "# Cek ulang missing values\n",
    "print(df_clean.isnull().sum().sum())  # Should be 0 now"
   ]
  },
  {
   "cell_type": "code",
   "execution_count": 11,
   "id": "7ad1c94c",
   "metadata": {},
   "outputs": [
    {
     "name": "stdout",
     "output_type": "stream",
     "text": [
      "<class 'pandas.core.frame.DataFrame'>\n",
      "Index: 31730 entries, 0 to 37899\n",
      "Data columns (total 22 columns):\n",
      " #   Column            Non-Null Count  Dtype         \n",
      "---  ------            --------------  -----         \n",
      " 0   transID           31730 non-null  object        \n",
      " 1   payCardID         31730 non-null  int64         \n",
      " 2   payCardBank       31730 non-null  object        \n",
      " 3   payCardName       31730 non-null  object        \n",
      " 4   payCardSex        31730 non-null  object        \n",
      " 5   payCardBirthDate  31730 non-null  int32         \n",
      " 6   corridorID        31730 non-null  object        \n",
      " 7   corridorName      31730 non-null  object        \n",
      " 8   direction         31730 non-null  float64       \n",
      " 9   tapInStops        31730 non-null  object        \n",
      " 10  tapInStopsName    31730 non-null  object        \n",
      " 11  tapInStopsLat     31730 non-null  float64       \n",
      " 12  tapInStopsLon     31730 non-null  float64       \n",
      " 13  stopStartSeq      31730 non-null  int64         \n",
      " 14  tapInTime         31730 non-null  datetime64[ns]\n",
      " 15  tapOutStops       31730 non-null  object        \n",
      " 16  tapOutStopsName   31730 non-null  object        \n",
      " 17  tapOutStopsLat    31730 non-null  float64       \n",
      " 18  tapOutStopsLon    31730 non-null  float64       \n",
      " 19  stopEndSeq        31730 non-null  float64       \n",
      " 20  tapOutTime        31730 non-null  datetime64[ns]\n",
      " 21  payAmount         31730 non-null  float64       \n",
      "dtypes: datetime64[ns](2), float64(7), int32(1), int64(2), object(10)\n",
      "memory usage: 5.4+ MB\n"
     ]
    }
   ],
   "source": [
    "df_clean = df.dropna().copy()\n",
    "\n",
    "# Jangan ubah payCardBirthDate jadi datetime, cukup pastikan tipe data benar\n",
    "df_clean['payCardBirthDate'] = df_clean['payCardBirthDate'].astype(int)\n",
    "\n",
    "# Konversi waktu tapInTime dan tapOutTime ke datetime\n",
    "df_clean['tapInTime'] = pd.to_datetime(df_clean['tapInTime'])\n",
    "df_clean['tapOutTime'] = pd.to_datetime(df_clean['tapOutTime'])\n",
    "\n",
    "df_clean.info()\n"
   ]
  },
  {
   "cell_type": "code",
   "execution_count": 12,
   "id": "756b8d74",
   "metadata": {},
   "outputs": [
    {
     "name": "stdout",
     "output_type": "stream",
     "text": [
      "Duplicates removed: 0\n"
     ]
    }
   ],
   "source": [
    "#menghapus data duplikat\n",
    "before = df_clean.shape[0]\n",
    "df_clean = df_clean.drop_duplicates()\n",
    "after = df_clean.shape[0]\n",
    "print(f'Duplicates removed: {before - after}')\n"
   ]
  },
  {
   "cell_type": "code",
   "execution_count": 13,
   "id": "d4d7e099",
   "metadata": {},
   "outputs": [
    {
     "name": "stdout",
     "output_type": "stream",
     "text": [
      "[3500.]\n"
     ]
    }
   ],
   "source": [
    "#mengubah paymount data error menjadi 3500\n",
    "\n",
    "df_clean.loc[df_clean['payAmount'] != 3500, 'payAmount'] = 3500\n",
    "print(df_clean['payAmount'].unique())"
   ]
  },
  {
   "cell_type": "code",
   "execution_count": 14,
   "id": "7f0edb62",
   "metadata": {},
   "outputs": [
    {
     "name": "stdout",
     "output_type": "stream",
     "text": [
      "File saved as CleanTransjakarta_Irwan.csv\n"
     ]
    }
   ],
   "source": [
    "#simpan ke csv baru \n",
    "\n",
    "df_clean.to_csv('CleanTransjakarta_Irwan.csv', index=False)\n",
    "print('File saved as CleanTransjakarta_Irwan.csv')"
   ]
  }
 ],
 "metadata": {
  "kernelspec": {
   "display_name": "base",
   "language": "python",
   "name": "python3"
  },
  "language_info": {
   "codemirror_mode": {
    "name": "ipython",
    "version": 3
   },
   "file_extension": ".py",
   "mimetype": "text/x-python",
   "name": "python",
   "nbconvert_exporter": "python",
   "pygments_lexer": "ipython3",
   "version": "3.12.7"
  }
 },
 "nbformat": 4,
 "nbformat_minor": 5
}
